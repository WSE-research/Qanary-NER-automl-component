{
  "cells": [
    {
      "cell_type": "code",
      "execution_count": null,
      "metadata": {
        "colab": {
          "base_uri": "https://localhost:8080/"
        },
        "id": "Nu8VxiqTzHbM",
        "outputId": "d4ba042b-c7c4-40d9-d09c-757fcd846681"
      },
      "outputs": [
        {
          "output_type": "stream",
          "name": "stdout",
          "text": [
            "Mounted at /drive\n"
          ]
        }
      ],
      "source": [
        "import requests\n",
        "import pandas as pd\n",
        "import random\n",
        "from google.colab import drive\n",
        "import csv\n",
        "from google.colab import auth\n",
        "import gspread\n",
        "from google.auth import default\n",
        "import json\n",
        "\n",
        "auth.authenticate_user()\n",
        "drive.mount(\"/drive\")\n",
        "creds, _ = default()\n",
        "gc = gspread.authorize(creds)\n",
        "overpass_url = \"http://overpass-api.de/api/interpreter\""
      ]
    },
    {
      "cell_type": "code",
      "source": [
        "worksheetname = 'short_name_templates'\n",
        "data_length = [10,50,100,250,500, 1000]"
      ],
      "metadata": {
        "id": "ULIS7qJrk9qZ"
      },
      "execution_count": null,
      "outputs": []
    },
    {
      "cell_type": "code",
      "source": [
        "templates = []\n",
        "templatesheet = gc.open_by_url('https://docs.google.com/spreadsheets/d/17xRVmIc5XNd4IPAlzcFleWM6QRLtEJsAWEqp-TY4sEU/edit#gid=1233379409')\n",
        "sheet = templatesheet.worksheet(worksheetname)\n",
        "templates = sheet.get_all_values()\n",
        "firstrow = templates[0]\n",
        "templates.pop(0)"
      ],
      "metadata": {
        "id": "TlNVrzn34kSM",
        "colab": {
          "base_uri": "https://localhost:8080/"
        },
        "outputId": "5659fbf3-168e-4387-b79f-ce9b040da46e"
      },
      "execution_count": null,
      "outputs": [
        {
          "output_type": "execute_result",
          "data": {
            "text/plain": [
              "['Text', 'FIRSTNAME', 'MIDDLENAME', 'LASTNAME']"
            ]
          },
          "metadata": {},
          "execution_count": 3
        }
      ]
    },
    {
      "cell_type": "code",
      "source": [
        "def get_random_namerow():\n",
        "  n = random.randint(0,len(templates)-1)\n",
        "  return templates[n]"
      ],
      "metadata": {
        "id": "LAWxe8hAB1uT"
      },
      "execution_count": null,
      "outputs": []
    },
    {
      "cell_type": "code",
      "source": [
        "def grab_name_data():\n",
        "  data_retrieved = False\n",
        "  while (data_retrieved == False):\n",
        "    try:\n",
        "      data = json.loads(requests.get('https://randomuser.me/api/?nat=us,de,gb&inc=name&results=2').content.decode('utf-8'))\n",
        "      return {\n",
        "          'first': data['results'][0]['name']['first'],\n",
        "          'middle': data['results'][1]['name']['first'],\n",
        "          'last': data['results'][0]['name']['last']\n",
        "      }\n",
        "    except:\n",
        "      data_retrieved = False"
      ],
      "metadata": {
        "id": "OkGcbslo0dS4"
      },
      "execution_count": null,
      "outputs": []
    },
    {
      "cell_type": "code",
      "source": [
        "def get_value_of_tag(data, tag):\n",
        "  a_dictionary = data\n",
        "  if tag not in a_dictionary:\n",
        "    return \"\"\n",
        "  else:\n",
        "    return a_dictionary[tag].replace(\".\", \"\").replace(\"(\", \"\").replace(\")\", \"\")"
      ],
      "metadata": {
        "id": "uYgAfIDkF-9I"
      },
      "execution_count": null,
      "outputs": []
    },
    {
      "cell_type": "code",
      "execution_count": null,
      "metadata": {
        "id": "oXRGD7ABzHbO"
      },
      "outputs": [],
      "source": [
        "def combine_data_and_namerow(data, namerow):\n",
        "  new_row = []\n",
        "  first = get_value_of_tag(data, 'first')\n",
        "  middle = get_value_of_tag(data, 'middle')\n",
        "  last = get_value_of_tag(data, 'last')\n",
        "  if(first in middle or middle in first):\n",
        "    return None\n",
        "  \n",
        "  old_row = namerow[0]\n",
        "  for i in range(4):\n",
        "    if (i == 0):\n",
        "      continue\n",
        "    if \"FIRSTNAME\" not in old_row:\n",
        "      namerow[i] = namerow[i].replace(\"FIRSTNAME\", \"\")\n",
        "    if \"MIDDLENAME\" not in old_row:\n",
        "      namerow[i] = namerow[i].replace(\"MIDDLENAME\", \"\")\n",
        "    if \"LASTNAME\" not in old_row:\n",
        "      namerow[i] = namerow[i].replace(\"LASTNAME\", \"\")\n",
        "\n",
        "  for element in namerow:\n",
        "    new_row.append(element.replace(\"FIRSTNAME\", first).replace(\"MIDDLENAME\", middle).replace(\"LASTNAME\", last))\n",
        "\n",
        "  return new_row"
      ]
    },
    {
      "cell_type": "code",
      "execution_count": null,
      "metadata": {
        "id": "t3fiOzlLzHbP"
      },
      "outputs": [],
      "source": [
        "def generate_data_row():\n",
        "  template = get_random_namerow()\n",
        "  name_data = None\n",
        "  while name_data == None: #Redo the step until generated place exists \n",
        "    name_data = grab_name_data()\n",
        "  return combine_data_and_namerow(name_data, template)"
      ]
    },
    {
      "cell_type": "code",
      "source": [
        "def generate_data(range_length, filename):\n",
        "  with open('/drive/My Drive/Colab Notebooks/GeneratedData/' + filename, 'w') as f:\n",
        "    writer = csv.writer(f)\n",
        "    writer.writerow(firstrow)\n",
        "    print(range_length)\n",
        "    for i in range(range_length):\n",
        "      row = generate_data_row()\n",
        "      if row == None:\n",
        "        i = i - 1\n",
        "        continue\n",
        "      writer.writerow(row)"
      ],
      "metadata": {
        "id": "dKytrd0tM-vl"
      },
      "execution_count": null,
      "outputs": []
    },
    {
      "cell_type": "code",
      "source": [
        "# Generate all datasets\n",
        "for element in data_length:\n",
        "  filename = worksheetname + str(element) + '.csv'\n",
        "  generate_data(element, filename)"
      ],
      "metadata": {
        "colab": {
          "base_uri": "https://localhost:8080/"
        },
        "id": "rjV01T7-n3iZ",
        "outputId": "07b2b6bf-08ed-4d48-be00-e184394c3100"
      },
      "execution_count": null,
      "outputs": [
        {
          "output_type": "stream",
          "name": "stdout",
          "text": [
            "10\n",
            "50\n",
            "100\n",
            "250\n",
            "500\n",
            "1000\n"
          ]
        }
      ]
    }
  ],
  "metadata": {
    "kernelspec": {
      "display_name": "Python 3.8.10 64-bit",
      "language": "python",
      "name": "python3"
    },
    "language_info": {
      "codemirror_mode": {
        "name": "ipython",
        "version": 3
      },
      "file_extension": ".py",
      "mimetype": "text/x-python",
      "name": "python",
      "nbconvert_exporter": "python",
      "pygments_lexer": "ipython3",
      "version": "3.8.10"
    },
    "orig_nbformat": 4,
    "vscode": {
      "interpreter": {
        "hash": "916dbcbb3f70747c44a77c7bcd40155683ae19c65e1c03b4aa3499c5328201f1"
      }
    },
    "colab": {
      "provenance": [],
      "collapsed_sections": []
    }
  },
  "nbformat": 4,
  "nbformat_minor": 0
}